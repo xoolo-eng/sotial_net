{
 "cells": [
  {
   "cell_type": "code",
   "execution_count": 8,
   "outputs": [],
   "source": [
    "import asyncio\n",
    "from hashlib import sha3_256, sha3_512\n",
    "from random import randrange\n",
    "import base64"
   ],
   "metadata": {
    "collapsed": false,
    "pycharm": {
     "name": "#%%\n"
    }
   }
  },
  {
   "cell_type": "code",
   "execution_count": 61,
   "outputs": [],
   "source": [
    "def set_password(text):\n",
    "    salt = \"username\" + str(randrange(1000000, 9999999))\n",
    "    salt = sha3_256(salt.encode(\"utf-8\")).hexdigest()\n",
    "    print(len(salt))\n",
    "    tmp = sha3_256(text.encode(\"utf-8\")).hexdigest()\n",
    "    data = \"\".join([s + t for s, t in zip(salt, tmp)])\n",
    "    return sha3_512(data.encode(\"utf-8\")).hexdigest() + salt"
   ],
   "metadata": {
    "collapsed": false,
    "pycharm": {
     "name": "#%%\n"
    }
   }
  },
  {
   "cell_type": "code",
   "execution_count": 67,
   "outputs": [
    {
     "name": "stdout",
     "output_type": "stream",
     "text": [
      "64\n"
     ]
    }
   ],
   "source": [
    "res = set_password(\"password\")"
   ],
   "metadata": {
    "collapsed": false,
    "pycharm": {
     "name": "#%%\n"
    }
   }
  },
  {
   "cell_type": "code",
   "execution_count": 69,
   "outputs": [
    {
     "name": "stdout",
     "output_type": "stream",
     "text": [
      "8e7a734369661656dc533791ea037c30bb4e0b0f4102816d569925d96948b9e3\n",
      "6cbbc927e072b53067b3c3ae756a9c5617b1ac692e022646e3a72f6161002eea2934f65482249825166283a341cd313bcd06fd80749ce97e4c2b46a041433367\n"
     ]
    }
   ],
   "source": [
    "print(res[-64:])\n",
    "print(res[:-64])"
   ],
   "metadata": {
    "collapsed": false,
    "pycharm": {
     "name": "#%%\n"
    }
   }
  },
  {
   "cell_type": "code",
   "execution_count": 66,
   "outputs": [
    {
     "name": "stdout",
     "output_type": "stream",
     "text": [
      "20\n",
      "dXNlcm5hbWU2MTIzOTk2\n",
      "30\n",
      "757365726e616d6535343035313537\n"
     ]
    }
   ],
   "source": [
    "# salt = \"username\" + str(randrange(1000000, 9999999))\n",
    "# salt = base64.b64encode(salt.encode(\"utf-8\"))\n",
    "# print(len(salt.decode(\"utf-8\")))\n",
    "# print(salt.decode(\"utf-8\"))\n",
    "# salt = \"username\" + str(randrange(1000000, 9999999))\n",
    "# salt = salt.encode(\"utf-8\").hex()\n",
    "# print(len(salt))\n",
    "# print(salt)"
   ],
   "metadata": {
    "collapsed": false,
    "pycharm": {
     "name": "#%%\n"
    }
   }
  },
  {
   "cell_type": "code",
   "execution_count": 66,
   "outputs": [],
   "source": [],
   "metadata": {
    "collapsed": false,
    "pycharm": {
     "name": "#%%\n"
    }
   }
  },
  {
   "cell_type": "code",
   "execution_count": 1,
   "outputs": [],
   "source": [
    "from datetime import datetime"
   ],
   "metadata": {
    "collapsed": false,
    "pycharm": {
     "name": "#%%\n"
    }
   }
  },
  {
   "cell_type": "code",
   "execution_count": 4,
   "outputs": [],
   "source": [
    "res = datetime.strptime(\"03-06-2022\", \"%d-%m-%Y\")"
   ],
   "metadata": {
    "collapsed": false,
    "pycharm": {
     "name": "#%%\n"
    }
   }
  },
  {
   "cell_type": "code",
   "execution_count": 5,
   "outputs": [
    {
     "data": {
      "text/plain": "datetime.datetime(2022, 6, 3, 0, 0)"
     },
     "execution_count": 5,
     "metadata": {},
     "output_type": "execute_result"
    }
   ],
   "source": [
    "res"
   ],
   "metadata": {
    "collapsed": false,
    "pycharm": {
     "name": "#%%\n"
    }
   }
  },
  {
   "cell_type": "code",
   "execution_count": 6,
   "outputs": [],
   "source": [
    "from datetime import date"
   ],
   "metadata": {
    "collapsed": false,
    "pycharm": {
     "name": "#%%\n"
    }
   }
  },
  {
   "cell_type": "code",
   "execution_count": 7,
   "outputs": [
    {
     "ename": "TypeError",
     "evalue": "'datetime.datetime' object cannot be interpreted as an integer",
     "output_type": "error",
     "traceback": [
      "\u001B[0;31m---------------------------------------------------------------------------\u001B[0m",
      "\u001B[0;31mTypeError\u001B[0m                                 Traceback (most recent call last)",
      "Input \u001B[0;32mIn [7]\u001B[0m, in \u001B[0;36m<cell line: 1>\u001B[0;34m()\u001B[0m\n\u001B[0;32m----> 1\u001B[0m \u001B[43mdate\u001B[49m\u001B[43m(\u001B[49m\u001B[43mres\u001B[49m\u001B[43m)\u001B[49m\n",
      "\u001B[0;31mTypeError\u001B[0m: 'datetime.datetime' object cannot be interpreted as an integer"
     ]
    }
   ],
   "source": [
    "date(res)"
   ],
   "metadata": {
    "collapsed": false,
    "pycharm": {
     "name": "#%%\n"
    }
   }
  },
  {
   "cell_type": "code",
   "execution_count": 8,
   "outputs": [
    {
     "data": {
      "text/plain": "datetime.date(2022, 6, 3)"
     },
     "execution_count": 8,
     "metadata": {},
     "output_type": "execute_result"
    }
   ],
   "source": [
    "res.date()"
   ],
   "metadata": {
    "collapsed": false,
    "pycharm": {
     "name": "#%%\n"
    }
   }
  },
  {
   "cell_type": "code",
   "execution_count": 6,
   "outputs": [],
   "source": [
    "from snet.app.utils import Crypto\n",
    "from pathlib import Path"
   ],
   "metadata": {
    "collapsed": false,
    "pycharm": {
     "name": "#%%\n"
    }
   }
  },
  {
   "cell_type": "code",
   "execution_count": 7,
   "outputs": [],
   "source": [
    "# Crypto.create_key(Path(\".\"))"
   ],
   "metadata": {
    "collapsed": false,
    "pycharm": {
     "name": "#%%\n"
    }
   }
  },
  {
   "cell_type": "code",
   "execution_count": 8,
   "outputs": [],
   "source": [
    "Crypto.load_key(Path(\".\"))"
   ],
   "metadata": {
    "collapsed": false,
    "pycharm": {
     "name": "#%%\n"
    }
   }
  },
  {
   "cell_type": "code",
   "execution_count": 4,
   "outputs": [],
   "source": [
    "res = Crypto.encode(\"TEXT\")"
   ],
   "metadata": {
    "collapsed": false,
    "pycharm": {
     "name": "#%%\n"
    }
   }
  },
  {
   "cell_type": "code",
   "execution_count": 5,
   "outputs": [
    {
     "name": "stdout",
     "output_type": "stream",
     "text": [
      "Ul+DxqAc6rI0HGLi2GKvmmtoFmjma0Cq/VFT9QTb0tM2CI8W6J1mcu+EHVr/lgXG9hPmGGceVHFKwW/Q7i/++e3wnmK/7U+0o8A2dB4XEcagvo/hGcJ8gbtQ+LlJo7tlZwcyXalXXNMA2iJaTIPoNgq2TnDn0MWN2YR0wELXuWtG+loM2FSHtEbdUCTN0JTxL0S7ZF3N5bayFrkC3LsQObRcuTxiNDvuBbgIFL+s22cbd8Q6TCxCuwNo26NKuVb4/U/6YP+8PJ6YfQH04Me0BZoSSpHYtmDB+FpiE3LpkGUyGyZl6vAVig/wCI/aYswvubbzR5mCDYREYvrgBF6PQanahbzpPkisqG+zBwN7Gxa0pkQDVrgdXmTvHmSF7TcYvhzUz1foQHVZdfCocdcrVM4D1t6OdR6wRQKdKl2mUNRNvT3qSmrnXn8yN2KadsLm3cUcWU+/uRKPhBMmeck683DqLwApkZ40WNM7Xq+2P9qkpihxlTeseenOlEIUDw2hHpiotoEVylLaMOpeUrNKRXLdDhPPVzSVYuuLZpmpaCqW3UdSERlqV0b+6mEW4tdJ68DdUBMRP+SuTJ9k30rkFUSH5l+a3gwp35wMSHNm6WW3XAf1EPvPbJB0WpVJnX/R/uyXa4UaGEteU0z+/NNkOVtvhd00KwUBEVRf2inZaYM=\n"
     ]
    }
   ],
   "source": [
    "print(res)"
   ],
   "metadata": {
    "collapsed": false,
    "pycharm": {
     "name": "#%%\n"
    }
   }
  },
  {
   "cell_type": "code",
   "execution_count": 10,
   "outputs": [
    {
     "ename": "ValueError",
     "evalue": "Encryption/decryption failed.",
     "output_type": "error",
     "traceback": [
      "\u001B[0;31m---------------------------------------------------------------------------\u001B[0m",
      "\u001B[0;31mValueError\u001B[0m                                Traceback (most recent call last)",
      "Input \u001B[0;32mIn [10]\u001B[0m, in \u001B[0;36m<cell line: 1>\u001B[0;34m()\u001B[0m\n\u001B[0;32m----> 1\u001B[0m text \u001B[38;5;241m=\u001B[39m \u001B[43mCrypto\u001B[49m\u001B[38;5;241;43m.\u001B[39;49m\u001B[43mdecode\u001B[49m\u001B[43m(\u001B[49m\u001B[38;5;124;43m\"\u001B[39;49m\u001B[38;5;124;43mUl+DxqAc6rI0HGLi2GKvmmtoFmjma0Cq/VFT9QTb0tM2CI8W6J1mcu+EHVr/lgXG9hPmGGceVHFKwW/Q7i/++e3wnmK/7U+0o8A2dB4XEcagvo/hGcJ8gbtQ+LlJo7tlZwcyXalXXNMA2iJaTIPoNgq2TnDn0MWN2YR0wELXuWtG+loM2FSHtEbdUCTN0JTxL0S7ZF3N5bayFrkC3LsQObRcuTxiNDvuBbgIFL+s22cbd8Q6TCxCuwNo26NKuVb4/U/6YP+8PJ6YfQH04Me0BZoSSpHYtmDB+FpiE3LpkGUyGyZl6vAVig/wCI/aYswvubbzR5mCDYREYvrgBF6PQanahbzpPkisqG+zBwN7Gxa0pkQDVrgdXmTvHmSF7TcYvhzUz1foQHVZdfCocdcrVM4D1t6OdR6wRQKdKl2mUNRNvT3qSmrnXn8yN2KadsLm3cUcWU+/uRKPhBMmeck683DqLwApkZ40WNM7Xq+2P9qkpihxlTeseenOlEIUDw2hHpiotoEVylLaMOpeUrNKRXLdDhPPVzSVYuuLZpmpaCqW3UdSERlqV0b+6mEW4tdJ68DdUBMRP+SuTJ9k30rkFUSH5l+a3gwp35wMSHNm6WW3XAf1EPvPbJB0WpVJnX/R/uyXa4UaGEteU0z+/NNkOVtvhd00KwUBEVRf2inZaYM=\u001B[39;49m\u001B[38;5;124;43m\"\u001B[39;49m\u001B[43m)\u001B[49m\n",
      "File \u001B[0;32m~/Documents/projects/python/TMS/sotial_net/snet/app/utils.py:49\u001B[0m, in \u001B[0;36mCrypto.decode\u001B[0;34m(cls, value)\u001B[0m\n\u001B[1;32m     47\u001B[0m \u001B[38;5;129m@classmethod\u001B[39m\n\u001B[1;32m     48\u001B[0m \u001B[38;5;28;01mdef\u001B[39;00m \u001B[38;5;21mdecode\u001B[39m(\u001B[38;5;28mcls\u001B[39m, value: \u001B[38;5;28mstr\u001B[39m \u001B[38;5;241m|\u001B[39m \u001B[38;5;28mbytes\u001B[39m):\n\u001B[0;32m---> 49\u001B[0m     data \u001B[38;5;241m=\u001B[39m \u001B[38;5;28;43mcls\u001B[39;49m\u001B[38;5;241;43m.\u001B[39;49m\u001B[43mprivate\u001B[49m\u001B[38;5;241;43m.\u001B[39;49m\u001B[43mdecrypt\u001B[49m\u001B[43m(\u001B[49m\n\u001B[1;32m     50\u001B[0m \u001B[43m        \u001B[49m\u001B[43mbase64\u001B[49m\u001B[38;5;241;43m.\u001B[39;49m\u001B[43mb64decode\u001B[49m\u001B[43m(\u001B[49m\u001B[43mvalue\u001B[49m\u001B[43m)\u001B[49m\u001B[43m \u001B[49m\u001B[38;5;28;43;01mif\u001B[39;49;00m\u001B[43m \u001B[49m\u001B[38;5;28;43misinstance\u001B[39;49m\u001B[43m(\u001B[49m\u001B[43mvalue\u001B[49m\u001B[43m,\u001B[49m\u001B[43m \u001B[49m\u001B[38;5;28;43mstr\u001B[39;49m\u001B[43m)\u001B[49m\u001B[43m \u001B[49m\u001B[38;5;28;43;01melse\u001B[39;49;00m\u001B[43m \u001B[49m\u001B[43mvalue\u001B[49m\u001B[43m,\u001B[49m\n\u001B[1;32m     51\u001B[0m \u001B[43m        \u001B[49m\u001B[43mpadding\u001B[49m\u001B[38;5;241;43m.\u001B[39;49m\u001B[43mOAEP\u001B[49m\u001B[43m(\u001B[49m\n\u001B[1;32m     52\u001B[0m \u001B[43m            \u001B[49m\u001B[43mmgf\u001B[49m\u001B[38;5;241;43m=\u001B[39;49m\u001B[43mpadding\u001B[49m\u001B[38;5;241;43m.\u001B[39;49m\u001B[43mMGF1\u001B[49m\u001B[43m(\u001B[49m\u001B[43malgorithm\u001B[49m\u001B[38;5;241;43m=\u001B[39;49m\u001B[43mhashes\u001B[49m\u001B[38;5;241;43m.\u001B[39;49m\u001B[43mSHA512\u001B[49m\u001B[43m(\u001B[49m\u001B[43m)\u001B[49m\u001B[43m)\u001B[49m\u001B[43m,\u001B[49m\n\u001B[1;32m     53\u001B[0m \u001B[43m            \u001B[49m\u001B[43malgorithm\u001B[49m\u001B[38;5;241;43m=\u001B[39;49m\u001B[43mhashes\u001B[49m\u001B[38;5;241;43m.\u001B[39;49m\u001B[43mSHA512\u001B[49m\u001B[43m(\u001B[49m\u001B[43m)\u001B[49m\u001B[43m,\u001B[49m\n\u001B[1;32m     54\u001B[0m \u001B[43m            \u001B[49m\u001B[43mlabel\u001B[49m\u001B[38;5;241;43m=\u001B[39;49m\u001B[38;5;28;43;01mNone\u001B[39;49;00m\u001B[43m,\u001B[49m\n\u001B[1;32m     55\u001B[0m \u001B[43m        \u001B[49m\u001B[43m)\u001B[49m\u001B[43m,\u001B[49m\n\u001B[1;32m     56\u001B[0m \u001B[43m    \u001B[49m\u001B[43m)\u001B[49m\n\u001B[1;32m     57\u001B[0m     \u001B[38;5;28;01mreturn\u001B[39;00m data\u001B[38;5;241m.\u001B[39mdecode(\u001B[38;5;124m\"\u001B[39m\u001B[38;5;124mutf-8\u001B[39m\u001B[38;5;124m\"\u001B[39m) \u001B[38;5;28;01mif\u001B[39;00m \u001B[38;5;28misinstance\u001B[39m(value, \u001B[38;5;28mstr\u001B[39m) \u001B[38;5;28;01melse\u001B[39;00m data\n",
      "File \u001B[0;32m~/Documents/projects/python/TMS/sotial_net/.venv/lib/python3.10/site-packages/cryptography/hazmat/backends/openssl/rsa.py:424\u001B[0m, in \u001B[0;36m_RSAPrivateKey.decrypt\u001B[0;34m(self, ciphertext, padding)\u001B[0m\n\u001B[1;32m    421\u001B[0m \u001B[38;5;28;01mif\u001B[39;00m key_size_bytes \u001B[38;5;241m!=\u001B[39m \u001B[38;5;28mlen\u001B[39m(ciphertext):\n\u001B[1;32m    422\u001B[0m     \u001B[38;5;28;01mraise\u001B[39;00m \u001B[38;5;167;01mValueError\u001B[39;00m(\u001B[38;5;124m\"\u001B[39m\u001B[38;5;124mCiphertext length must be equal to key size.\u001B[39m\u001B[38;5;124m\"\u001B[39m)\n\u001B[0;32m--> 424\u001B[0m \u001B[38;5;28;01mreturn\u001B[39;00m \u001B[43m_enc_dec_rsa\u001B[49m\u001B[43m(\u001B[49m\u001B[38;5;28;43mself\u001B[39;49m\u001B[38;5;241;43m.\u001B[39;49m\u001B[43m_backend\u001B[49m\u001B[43m,\u001B[49m\u001B[43m \u001B[49m\u001B[38;5;28;43mself\u001B[39;49m\u001B[43m,\u001B[49m\u001B[43m \u001B[49m\u001B[43mciphertext\u001B[49m\u001B[43m,\u001B[49m\u001B[43m \u001B[49m\u001B[43mpadding\u001B[49m\u001B[43m)\u001B[49m\n",
      "File \u001B[0;32m~/Documents/projects/python/TMS/sotial_net/.venv/lib/python3.10/site-packages/cryptography/hazmat/backends/openssl/rsa.py:98\u001B[0m, in \u001B[0;36m_enc_dec_rsa\u001B[0;34m(backend, key, data, padding)\u001B[0m\n\u001B[1;32m     92\u001B[0m \u001B[38;5;28;01melse\u001B[39;00m:\n\u001B[1;32m     93\u001B[0m     \u001B[38;5;28;01mraise\u001B[39;00m UnsupportedAlgorithm(\n\u001B[1;32m     94\u001B[0m         \u001B[38;5;124m\"\u001B[39m\u001B[38;5;132;01m{}\u001B[39;00m\u001B[38;5;124m is not supported by this backend.\u001B[39m\u001B[38;5;124m\"\u001B[39m\u001B[38;5;241m.\u001B[39mformat(padding\u001B[38;5;241m.\u001B[39mname),\n\u001B[1;32m     95\u001B[0m         _Reasons\u001B[38;5;241m.\u001B[39mUNSUPPORTED_PADDING,\n\u001B[1;32m     96\u001B[0m     )\n\u001B[0;32m---> 98\u001B[0m \u001B[38;5;28;01mreturn\u001B[39;00m \u001B[43m_enc_dec_rsa_pkey_ctx\u001B[49m\u001B[43m(\u001B[49m\u001B[43mbackend\u001B[49m\u001B[43m,\u001B[49m\u001B[43m \u001B[49m\u001B[43mkey\u001B[49m\u001B[43m,\u001B[49m\u001B[43m \u001B[49m\u001B[43mdata\u001B[49m\u001B[43m,\u001B[49m\u001B[43m \u001B[49m\u001B[43mpadding_enum\u001B[49m\u001B[43m,\u001B[49m\u001B[43m \u001B[49m\u001B[43mpadding\u001B[49m\u001B[43m)\u001B[49m\n",
      "File \u001B[0;32m~/Documents/projects/python/TMS/sotial_net/.venv/lib/python3.10/site-packages/cryptography/hazmat/backends/openssl/rsa.py:164\u001B[0m, in \u001B[0;36m_enc_dec_rsa_pkey_ctx\u001B[0;34m(backend, key, data, padding_enum, padding)\u001B[0m\n\u001B[1;32m    162\u001B[0m backend\u001B[38;5;241m.\u001B[39m_lib\u001B[38;5;241m.\u001B[39mERR_clear_error()\n\u001B[1;32m    163\u001B[0m \u001B[38;5;28;01mif\u001B[39;00m res \u001B[38;5;241m<\u001B[39m\u001B[38;5;241m=\u001B[39m \u001B[38;5;241m0\u001B[39m:\n\u001B[0;32m--> 164\u001B[0m     \u001B[38;5;28;01mraise\u001B[39;00m \u001B[38;5;167;01mValueError\u001B[39;00m(\u001B[38;5;124m\"\u001B[39m\u001B[38;5;124mEncryption/decryption failed.\u001B[39m\u001B[38;5;124m\"\u001B[39m)\n\u001B[1;32m    165\u001B[0m \u001B[38;5;28;01mreturn\u001B[39;00m resbuf\n",
      "\u001B[0;31mValueError\u001B[0m: Encryption/decryption failed."
     ]
    }
   ],
   "source": [
    "text = Crypto.decode(\"Ul+DxqAc6rI0HGLi2GKvmmtoFmjma0Cq/VFT9QTb0tM2CI8W6J1mcu+EHVr/lgXG9hPmGGceVHFKwW/Q7i/++e3wnmK/7U+0o8A2dB4XEcagvo/hGcJ8gbtQ+LlJo7tlZwcyXalXXNMA2iJaTIPoNgq2TnDn0MWN2YR0wELXuWtG+loM2FSHtEbdUCTN0JTxL0S7ZF3N5bayFrkC3LsQObRcuTxiNDvuBbgIFL+s22cbd8Q6TCxCuwNo26NKuVb4/U/6YP+8PJ6YfQH04Me0BZoSSpHYtmDB+FpiE3LpkGUyGyZl6vAVig/wCI/aYswvubbzR5mCDYREYvrgBF6PQanahbzpPkisqG+zBwN7Gxa0pkQDVrgdXmTvHmSF7TcYvhzUz1foQHVZdfCocdcrVM4D1t6OdR6wRQKdKl2mUNRNvT3qSmrnXn8yN2KadsLm3cUcWU+/uRKPhBMmeck683DqLwApkZ40WNM7Xq+2P9qkpihxlTeseenOlEIUDw2hHpiotoEVylLaMOpeUrNKRXLdDhPPVzSVYuuLZpmpaCqW3UdSERlqV0b+6mEW4tdJ68DdUBMRP+SuTJ9k30rkFUSH5l+a3gwp35wMSHNm6WW3XAf1EPvPbJB0WpVJnX/R/uyXa4UaGEteU0z+/NNkOVtvhd00KwUBEVRf2inZaYM=\")"
   ],
   "metadata": {
    "collapsed": false,
    "pycharm": {
     "name": "#%%\n"
    }
   }
  },
  {
   "cell_type": "code",
   "execution_count": 7,
   "outputs": [
    {
     "name": "stdout",
     "output_type": "stream",
     "text": [
      "TEXT\n"
     ]
    }
   ],
   "source": [
    "print(text)"
   ],
   "metadata": {
    "collapsed": false,
    "pycharm": {
     "name": "#%%\n"
    }
   }
  },
  {
   "cell_type": "code",
   "execution_count": 1,
   "outputs": [],
   "source": [
    "import json"
   ],
   "metadata": {
    "collapsed": false,
    "pycharm": {
     "name": "#%%\n"
    }
   }
  },
  {
   "cell_type": "code",
   "execution_count": 3,
   "outputs": [
    {
     "data": {
      "text/plain": "'\"text\"'"
     },
     "execution_count": 3,
     "metadata": {},
     "output_type": "execute_result"
    }
   ],
   "source": [
    "json.dumps(\"text\")"
   ],
   "metadata": {
    "collapsed": false,
    "pycharm": {
     "name": "#%%\n"
    }
   }
  },
  {
   "cell_type": "code",
   "execution_count": 3,
   "outputs": [],
   "source": [],
   "metadata": {
    "collapsed": false,
    "pycharm": {
     "name": "#%%\n"
    }
   }
  },
  {
   "cell_type": "code",
   "execution_count": 5,
   "outputs": [
    {
     "data": {
      "text/plain": "'{\"key\": \"value\"}'"
     },
     "execution_count": 5,
     "metadata": {},
     "output_type": "execute_result"
    }
   ],
   "source": [
    "json.dumps({\"key\": \"value\"})"
   ],
   "metadata": {
    "collapsed": false,
    "pycharm": {
     "name": "#%%\n"
    }
   }
  },
  {
   "cell_type": "code",
   "execution_count": null,
   "outputs": [],
   "source": [],
   "metadata": {
    "collapsed": false,
    "pycharm": {
     "name": "#%%\n"
    }
   }
  },
  {
   "cell_type": "code",
   "execution_count": null,
   "outputs": [],
   "source": [],
   "metadata": {
    "collapsed": false,
    "pycharm": {
     "name": "#%%\n"
    }
   }
  },
  {
   "cell_type": "code",
   "execution_count": 1,
   "outputs": [],
   "source": [
    "a = {\"key\": \"value\"}"
   ],
   "metadata": {
    "collapsed": false,
    "pycharm": {
     "name": "#%%\n"
    }
   }
  },
  {
   "cell_type": "code",
   "execution_count": 2,
   "outputs": [
    {
     "ename": "KeyError",
     "evalue": "'key2'",
     "output_type": "error",
     "traceback": [
      "\u001B[0;31m---------------------------------------------------------------------------\u001B[0m",
      "\u001B[0;31mKeyError\u001B[0m                                  Traceback (most recent call last)",
      "Input \u001B[0;32mIn [2]\u001B[0m, in \u001B[0;36m<cell line: 1>\u001B[0;34m()\u001B[0m\n\u001B[0;32m----> 1\u001B[0m \u001B[43ma\u001B[49m\u001B[43m[\u001B[49m\u001B[38;5;124;43m\"\u001B[39;49m\u001B[38;5;124;43mkey2\u001B[39;49m\u001B[38;5;124;43m\"\u001B[39;49m\u001B[43m]\u001B[49m\n",
      "\u001B[0;31mKeyError\u001B[0m: 'key2'"
     ]
    }
   ],
   "source": [
    "a[\"key2\"]"
   ],
   "metadata": {
    "collapsed": false,
    "pycharm": {
     "name": "#%%\n"
    }
   }
  },
  {
   "cell_type": "code",
   "execution_count": 3,
   "outputs": [],
   "source": [
    "import asyncio"
   ],
   "metadata": {
    "collapsed": false,
    "pycharm": {
     "name": "#%%\n"
    }
   }
  },
  {
   "cell_type": "code",
   "execution_count": 5,
   "outputs": [],
   "source": [
    "async def f():\n",
    "    await asyncio.sleep(2)\n",
    "    return 3"
   ],
   "metadata": {
    "collapsed": false,
    "pycharm": {
     "name": "#%%\n"
    }
   }
  },
  {
   "cell_type": "code",
   "execution_count": null,
   "outputs": [],
   "source": [
    "res = await f()"
   ],
   "metadata": {
    "collapsed": false,
    "pycharm": {
     "name": "#%%\n"
    }
   }
  },
  {
   "cell_type": "code",
   "execution_count": null,
   "outputs": [],
   "source": [
    "res = f()"
   ],
   "metadata": {
    "collapsed": false,
    "pycharm": {
     "name": "#%%\n"
    }
   }
  },
  {
   "cell_type": "code",
   "execution_count": null,
   "outputs": [],
   "source": [
    "await res"
   ],
   "metadata": {
    "collapsed": false,
    "pycharm": {
     "name": "#%%\n"
    }
   }
  }
 ],
 "metadata": {
  "kernelspec": {
   "display_name": "Python 3",
   "language": "python",
   "name": "python3"
  },
  "language_info": {
   "codemirror_mode": {
    "name": "ipython",
    "version": 2
   },
   "file_extension": ".py",
   "mimetype": "text/x-python",
   "name": "python",
   "nbconvert_exporter": "python",
   "pygments_lexer": "ipython2",
   "version": "2.7.6"
  }
 },
 "nbformat": 4,
 "nbformat_minor": 0
}